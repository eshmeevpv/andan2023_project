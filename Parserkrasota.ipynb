{
 "cells": [
  {
   "cell_type": "code",
   "execution_count": 1,
   "id": "8f7a7317",
   "metadata": {},
   "outputs": [],
   "source": [
    "from selenium.webdriver import Chrome\n",
    "from selenium.webdriver.common.keys import Keys\n",
    "from selenium.webdriver.support.ui import WebDriverWait as wait\n",
    "from bs4 import BeautifulSoup as bs\n",
    "from time import sleep\n",
    "from selenium.webdriver.common.by import By\n",
    "import pandas as pd\n",
    "import random"
   ]
  },
  {
   "cell_type": "code",
   "execution_count": 2,
   "id": "bbe24ade",
   "metadata": {},
   "outputs": [],
   "source": [
    "url = \"https://sullygnome.com/games/2016/watched\"\n",
    "\n",
    "# Открываем, используя Chrome, через Chrome вкладку\n",
    "browser = Chrome()\n",
    "browser.get(url) \n",
    "\n",
    " # Запрашиваем код страницы\n",
    "soup = bs(browser.page_source, 'lxml') \n",
    "\n",
    "# Находим таблицу\n",
    "table1 = soup.find('table', id='tblControl') "
   ]
  },
  {
   "cell_type": "code",
   "execution_count": 3,
   "id": "db2644fc",
   "metadata": {},
   "outputs": [
    {
     "data": {
      "text/plain": [
       "['Game',\n",
       " 'Watch time (hours)',\n",
       " 'Stream time (hours)',\n",
       " 'Peak viewers',\n",
       " 'Peak channels',\n",
       " 'Streamers',\n",
       " 'Average viewers',\n",
       " 'Average channels',\n",
       " 'Average viewer ratio',\n",
       " 'Twich_year']"
      ]
     },
     "execution_count": 3,
     "metadata": {},
     "output_type": "execute_result"
    }
   ],
   "source": [
    "# Находим названия столбцов и добавляем свои\n",
    "\n",
    "headers = []\n",
    "for i in table1.find_all('th'):\n",
    "    title = i.text\n",
    "    headers.append(title)\n",
    "headers_filt = headers[2:11] + ['Twich_year']\n",
    "headers_filt"
   ]
  },
  {
   "cell_type": "code",
   "execution_count": 4,
   "id": "f6835549",
   "metadata": {},
   "outputs": [],
   "source": [
    "# Создаем таблицу через пандас\n",
    "mydata = pd.DataFrame(columns = headers_filt) "
   ]
  },
  {
   "cell_type": "code",
   "execution_count": 5,
   "id": "519dd55c",
   "metadata": {},
   "outputs": [
    {
     "data": {
      "text/plain": [
       "[279, 330, 399, 424, 632, 830, 970]"
      ]
     },
     "execution_count": 5,
     "metadata": {},
     "output_type": "execute_result"
    }
   ],
   "source": [
    "# Задали максимальное количество страниц вручную, будем считывать данные с 2016-2022\n",
    "max_stranic_na_saite = [279, 330, 399, 424, 632, 830, 970]\n",
    "max_stranic_na_saite"
   ]
  },
  {
   "cell_type": "code",
   "execution_count": 6,
   "id": "fd39a208",
   "metadata": {},
   "outputs": [],
   "source": [
    "# Для записи открыли эксель\n",
    "writer = pd.ExcelWriter('D:\\Twich.xlsx')"
   ]
  },
  {
   "cell_type": "code",
   "execution_count": 9,
   "id": "45bfc1b8",
   "metadata": {
    "scrolled": true
   },
   "outputs": [
    {
     "name": "stdout",
     "output_type": "stream",
     "text": [
      "2016 0\n",
      "2016 1\n",
      "2016 2\n"
     ]
    },
    {
     "name": "stderr",
     "output_type": "stream",
     "text": [
      "C:\\Users\\Иван\\AppData\\Local\\Temp\\ipykernel_11760\\3848726246.py:35: FutureWarning: save is not part of the public API, usage can give unexpected results and will be removed in a future version\n",
      "  writer.save()\n"
     ]
    },
    {
     "name": "stdout",
     "output_type": "stream",
     "text": [
      "2017 0\n",
      "2017 1\n",
      "2017 2\n"
     ]
    },
    {
     "name": "stderr",
     "output_type": "stream",
     "text": [
      "C:\\Users\\Иван\\AppData\\Local\\Temp\\ipykernel_11760\\3848726246.py:35: FutureWarning: save is not part of the public API, usage can give unexpected results and will be removed in a future version\n",
      "  writer.save()\n"
     ]
    },
    {
     "name": "stdout",
     "output_type": "stream",
     "text": [
      "2018 0\n",
      "2018 1\n",
      "2018 2\n"
     ]
    },
    {
     "name": "stderr",
     "output_type": "stream",
     "text": [
      "C:\\Users\\Иван\\AppData\\Local\\Temp\\ipykernel_11760\\3848726246.py:35: FutureWarning: save is not part of the public API, usage can give unexpected results and will be removed in a future version\n",
      "  writer.save()\n"
     ]
    },
    {
     "name": "stdout",
     "output_type": "stream",
     "text": [
      "2019 0\n",
      "2019 1\n",
      "2019 2\n"
     ]
    },
    {
     "name": "stderr",
     "output_type": "stream",
     "text": [
      "C:\\Users\\Иван\\AppData\\Local\\Temp\\ipykernel_11760\\3848726246.py:35: FutureWarning: save is not part of the public API, usage can give unexpected results and will be removed in a future version\n",
      "  writer.save()\n"
     ]
    },
    {
     "name": "stdout",
     "output_type": "stream",
     "text": [
      "2020 0\n",
      "2020 1\n",
      "2020 2\n"
     ]
    },
    {
     "name": "stderr",
     "output_type": "stream",
     "text": [
      "C:\\Users\\Иван\\AppData\\Local\\Temp\\ipykernel_11760\\3848726246.py:35: FutureWarning: save is not part of the public API, usage can give unexpected results and will be removed in a future version\n",
      "  writer.save()\n"
     ]
    },
    {
     "name": "stdout",
     "output_type": "stream",
     "text": [
      "2021 0\n",
      "2021 1\n",
      "2021 2\n"
     ]
    },
    {
     "name": "stderr",
     "output_type": "stream",
     "text": [
      "C:\\Users\\Иван\\AppData\\Local\\Temp\\ipykernel_11760\\3848726246.py:35: FutureWarning: save is not part of the public API, usage can give unexpected results and will be removed in a future version\n",
      "  writer.save()\n"
     ]
    },
    {
     "name": "stdout",
     "output_type": "stream",
     "text": [
      "2022 0\n",
      "2022 1\n",
      "2022 2\n"
     ]
    },
    {
     "name": "stderr",
     "output_type": "stream",
     "text": [
      "C:\\Users\\Иван\\AppData\\Local\\Temp\\ipykernel_11760\\3848726246.py:35: FutureWarning: save is not part of the public API, usage can give unexpected results and will be removed in a future version\n",
      "  writer.save()\n"
     ]
    }
   ],
   "source": [
    "url = \"https://sullygnome.com/games/2016/watched\"\n",
    "\n",
    "Twich_year = 0   # Проход по годам\n",
    "\n",
    "while Twich_year < 7: # Проход по годам (Twich_year + 2016)\n",
    "    \n",
    "    mydata = pd.DataFrame(columns = headers_filt)   # Обновили промежуточную таблицу и перешли по ссылке год\n",
    "    browser.get(url)\n",
    "    \n",
    "    for k in range (max_stranic_na_saite[Twich_year]):  # Проход по страницам(в out здесь стояло 3 для примера)\n",
    "        \n",
    "        sleep(2 * (random.random() + 1))   # Функция sleep(), чтобы не сайт не заблокировал\n",
    "        \n",
    "        soup = bs(browser.page_source, 'lxml')   # Получаем код страницы\n",
    "        table1 = soup.find('table', id='tblControl')   # Находим таблицу в коде\n",
    "\n",
    "        \n",
    "        for j in table1.find_all('tr')[1:]: # Проход по строкам таблицы\n",
    "\n",
    "            name = j.find_all('a')    # Считываем данные строки и заносим в свой df\n",
    "            Year = 2016 + Twich_year\n",
    "            row_data = j.find_all('div', class_='TableCellValue')\n",
    "            row = [i.text for i in row_data]\n",
    "            length = len(mydata)\n",
    "            mydata.loc[length] = [name[1].text] + row + [Year]\n",
    "            \n",
    "        browser.find_element(By.ID, 'tblControl_next').click()   # Переходим на следуюющую страницы таблицы\n",
    "        print(2016 + Twich_year, k)   # Cчетчик\n",
    "        \n",
    "    url_massive = url.split('/')   #Меняем ссылку года\n",
    "    url_massive[4] = str(int(url_massive[4]) + 1)\n",
    "    url = '/'.join(url_massive)\n",
    "        \n",
    "    mydata.to_excel(writer, str(2016 + Twich_year))   # Запись на лист данных df\n",
    "    writer.save()\n",
    "    Twich_year += 1\n"
   ]
  },
  {
   "cell_type": "code",
   "execution_count": null,
   "id": "266c3d10",
   "metadata": {},
   "outputs": [],
   "source": []
  }
 ],
 "metadata": {
  "kernelspec": {
   "display_name": "Python 3 (ipykernel)",
   "language": "python",
   "name": "python3"
  },
  "language_info": {
   "codemirror_mode": {
    "name": "ipython",
    "version": 3
   },
   "file_extension": ".py",
   "mimetype": "text/x-python",
   "name": "python",
   "nbconvert_exporter": "python",
   "pygments_lexer": "ipython3",
   "version": "3.10.9"
  }
 },
 "nbformat": 4,
 "nbformat_minor": 5
}
